{
 "cells": [
  {
   "cell_type": "markdown",
   "id": "62086f37",
   "metadata": {},
   "source": [
    "# Dataframes"
   ]
  },
  {
   "cell_type": "code",
   "execution_count": null,
   "id": "46f0998a",
   "metadata": {},
   "outputs": [],
   "source": [
    "#Càrrega DataFrame/Info\n",
    "#Per obrir un dataframe penjat a Githup!!\n",
    "delaney_url = 'https://raw.githubusercontent.com/dataprofessor/data/master/delaney.csv'\n",
    "delaney_df = pd.read_csv(delaney_url)\n",
    "delaney_df"
   ]
  },
  {
   "cell_type": "code",
   "execution_count": null,
   "id": "e5581101",
   "metadata": {},
   "outputs": [],
   "source": [
    "#Exploració DataFrame\n",
    "#Dona el número d'opcions de cada columna en un data Frame a Pandas\n",
    "\n",
    "for i in dataFrame.columns:\n",
    "    print(f'{i} ---- > {dataFrame[i].nunique()} opcions')"
   ]
  },
  {
   "cell_type": "code",
   "execution_count": null,
   "id": "02f670c2",
   "metadata": {},
   "outputs": [],
   "source": [
    "#Retorna el nom com string de un DataFrame / funció / variable\n",
    "def name_of(data):\n",
    "    '''Function to get the name as string of a dataframe, function or a variable\n",
    "            INPUT: a variable, a dataframe a function\n",
    "            OUTPUT: a string with the name'''\n",
    "    name =[x for x in globals() if globals()[x] is data][0]\n",
    "    return name"
   ]
  },
  {
   "cell_type": "markdown",
   "id": "0272eda5",
   "metadata": {},
   "source": [
    "# Machine Learning"
   ]
  },
  {
   "cell_type": "code",
   "execution_count": null,
   "id": "ce8cd63f",
   "metadata": {},
   "outputs": [],
   "source": [
    "#MACHINE LEARNING: testeig ràpid de models generant un dataframe amb resultats train vs test r2\n",
    "\n",
    "def test(models, data, iterations = 100):\n",
    "    results = {}\n",
    "    for i in models:\n",
    "        r2_train = []\n",
    "        r2_test = []\n",
    "        for j in range(iterations):\n",
    "            X_train, X_test, y_train, y_test = train_test_split(data[X], \n",
    "                                                                data[Y], \n",
    "                                                                test_size= 0.2)\n",
    "            r2_test.append(metrics.r2_score(y_test,\n",
    "                                            models[i].fit(X_train, \n",
    "                                                         y_train).predict(X_test)))\n",
    "            r2_train.append(metrics.r2_score(y_train, \n",
    "                                             models[i].fit(X_train, \n",
    "                                                          y_train).predict(X_train)))\n",
    "        results[i] = [np.mean(r2_train), np.mean(r2_test)]\n",
    "    return pd.DataFrame(results)"
   ]
  },
  {
   "cell_type": "markdown",
   "id": "f9d7f541",
   "metadata": {},
   "source": [
    "Trobat a : https://alfurka.github.io/2018-11-18-grid-search/"
   ]
  },
  {
   "cell_type": "code",
   "execution_count": null,
   "id": "7ec0632b",
   "metadata": {},
   "outputs": [],
   "source": []
  },
  {
   "cell_type": "markdown",
   "id": "b466b215",
   "metadata": {},
   "source": [
    "# Graficació"
   ]
  },
  {
   "cell_type": "code",
   "execution_count": null,
   "id": "4764e99d",
   "metadata": {},
   "outputs": [],
   "source": [
    "# Matreu de correlació només amb la meitat inferior!!\n",
    "sns.set(rc = {'figure.figsize':(20,20)})\n",
    "mask = np.triu(np.ones_like(df1_reg.corr(), dtype=bool))\n",
    "sns.heatmap(df1_reg.corr(),cmap='viridis_r',annot=True,mask=mask)"
   ]
  },
  {
   "cell_type": "code",
   "execution_count": null,
   "id": "9f8e2fb7",
   "metadata": {},
   "outputs": [],
   "source": []
  },
  {
   "cell_type": "code",
   "execution_count": null,
   "id": "4610a5f4",
   "metadata": {},
   "outputs": [],
   "source": []
  },
  {
   "cell_type": "code",
   "execution_count": null,
   "id": "6eb90667",
   "metadata": {},
   "outputs": [],
   "source": []
  },
  {
   "cell_type": "code",
   "execution_count": null,
   "id": "bc53f77c",
   "metadata": {},
   "outputs": [],
   "source": []
  },
  {
   "cell_type": "markdown",
   "id": "bd00aeca",
   "metadata": {},
   "source": [
    "# Altres"
   ]
  },
  {
   "cell_type": "code",
   "execution_count": 1,
   "id": "e45d83cd",
   "metadata": {
    "ExecuteTime": {
     "end_time": "2022-03-28T08:05:54.642115Z",
     "start_time": "2022-03-28T08:05:54.598251Z"
    },
    "scrolled": true
   },
   "outputs": [
    {
     "name": "stdout",
     "output_type": "stream",
     "text": [
      "Wall time: 0 ns\n"
     ]
    },
    {
     "data": {
      "text/plain": [
       "range(0, 100000)"
      ]
     },
     "execution_count": 1,
     "metadata": {},
     "output_type": "execute_result"
    }
   ],
   "source": [
    "#PERFORMANCE\n",
    "# Mesura el que triga a fer-se una ordre\n",
    "%time range (100000) "
   ]
  },
  {
   "cell_type": "code",
   "execution_count": null,
   "id": "a043b337",
   "metadata": {},
   "outputs": [],
   "source": []
  }
 ],
 "metadata": {
  "kernelspec": {
   "display_name": "Python 3 (ipykernel)",
   "language": "python",
   "name": "python3"
  },
  "language_info": {
   "codemirror_mode": {
    "name": "ipython",
    "version": 3
   },
   "file_extension": ".py",
   "mimetype": "text/x-python",
   "name": "python",
   "nbconvert_exporter": "python",
   "pygments_lexer": "ipython3",
   "version": "3.9.7"
  },
  "latex_envs": {
   "LaTeX_envs_menu_present": true,
   "autoclose": false,
   "autocomplete": true,
   "bibliofile": "biblio.bib",
   "cite_by": "apalike",
   "current_citInitial": 1,
   "eqLabelWithNumbers": true,
   "eqNumInitial": 1,
   "hotkeys": {
    "equation": "Ctrl-E",
    "itemize": "Ctrl-I"
   },
   "labels_anchors": false,
   "latex_user_defs": false,
   "report_style_numbering": false,
   "user_envs_cfg": false
  }
 },
 "nbformat": 4,
 "nbformat_minor": 5
}
